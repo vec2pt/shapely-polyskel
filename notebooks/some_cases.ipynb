{
 "cells": [
  {
   "cell_type": "code",
   "execution_count": 1,
   "metadata": {},
   "outputs": [],
   "source": [
    "from shapely import Polygon, is_valid, is_valid_reason\n",
    "from shapely_polyskel import StraightSkeleton"
   ]
  },
  {
   "cell_type": "markdown",
   "metadata": {},
   "source": [
    "# Some cases (WIP)\n",
    "\n",
    "This notebook presents a number of cases which may cause some difficulties or problems in the use.\n",
    "\n",
    "Note: There are certainly other exceptions not included in this notebook.\n",
    "\n",
    "## Unacceptable polygons \n",
    "\n",
    "### Empty polygon"
   ]
  },
  {
   "cell_type": "code",
   "execution_count": 2,
   "metadata": {},
   "outputs": [],
   "source": [
    "polygon = Polygon()\n",
    "\n",
    "# ValueError: The polygon is empty. The skeleton can't be compute.\n",
    "# StraightSkeleton(polygon)"
   ]
  },
  {
   "cell_type": "markdown",
   "metadata": {},
   "source": [
    "### Invalid polygon\n",
    "Examples of invalid polygons taken from: https://shapely.readthedocs.io/en/stable/manual.html#polygons"
   ]
  },
  {
   "cell_type": "code",
   "execution_count": 3,
   "metadata": {},
   "outputs": [
    {
     "name": "stdout",
     "output_type": "stream",
     "text": [
      "Is valid: False; Reason: Interior is disconnected[1 0]\n"
     ]
    }
   ],
   "source": [
    "polygon = Polygon(\n",
    "    [(0, 0), (0, 2), (2, 2), (2, 0)],\n",
    "    [[(1, 0), (0, 1), (0.5, 1.5), (1.5, 0.5)]],\n",
    ")\n",
    "\n",
    "# ValueError: The polygon is invalid. The skeleton can't be compute.\n",
    "# StraightSkeleton(polygon)\n",
    "\n",
    "print(f\"Is valid: {is_valid(polygon)}; Reason: {is_valid_reason(polygon)}\")"
   ]
  },
  {
   "cell_type": "code",
   "execution_count": 4,
   "metadata": {},
   "outputs": [
    {
     "name": "stdout",
     "output_type": "stream",
     "text": [
      "Is valid: False; Reason: Self-intersection[0.5 0]\n"
     ]
    }
   ],
   "source": [
    "polygon = Polygon(\n",
    "    [(0, 0), (0, 2), (2, 2), (2, 0)],\n",
    "    [[(0.5, 0), (1.5, 0), (1.5, 1), (0.5, 1)]],\n",
    ")\n",
    "# StraightSkeleton(polygon)\n",
    "\n",
    "print(f\"Is valid: {is_valid(polygon)}; Reason: {is_valid_reason(polygon)}\")"
   ]
  },
  {
   "cell_type": "code",
   "execution_count": 5,
   "metadata": {},
   "outputs": [
    {
     "name": "stdout",
     "output_type": "stream",
     "text": [
      "Is valid: False; Reason: Self-intersection[0.5 1.25]\n"
     ]
    }
   ],
   "source": [
    "ext = [(0, 0), (0, 2), (2, 2), (2, 0)]\n",
    "int_1 = [(0.5, 0.25), (1.5, 0.25), (1.5, 1.25), (0.5, 1.25)]\n",
    "int_2 = [(0.5, 1.25), (1, 1.25), (1, 1.75), (0.5, 1.75)]\n",
    "polygon = Polygon(ext, [int_1, int_2])\n",
    "\n",
    "# StraightSkeleton(polygon)\n",
    "\n",
    "print(f\"Is valid: {is_valid(polygon)}; Reason: {is_valid_reason(polygon)}\")"
   ]
  },
  {
   "cell_type": "code",
   "execution_count": 6,
   "metadata": {},
   "outputs": [
    {
     "name": "stdout",
     "output_type": "stream",
     "text": [
      "Is valid: False; Reason: Self-intersection[0.5 0]\n"
     ]
    }
   ],
   "source": [
    "polygon = Polygon(\n",
    "    [(0, 0), (0, 2), (2, 2), (2, 0)],\n",
    "    [[(0.5, -1), (1.5, -1), (1.5, 1), (0.5, 1)]],\n",
    ")\n",
    "# StraightSkeleton(polygon)\n",
    "\n",
    "print(f\"Is valid: {is_valid(polygon)}; Reason: {is_valid_reason(polygon)}\")"
   ]
  },
  {
   "cell_type": "markdown",
   "metadata": {},
   "source": [
    "## Unique ridges\n",
    "\n",
    "### Regular polygon (Square)"
   ]
  },
  {
   "cell_type": "code",
   "execution_count": 7,
   "metadata": {},
   "outputs": [
    {
     "data": {
      "image/svg+xml": [
       "<svg xmlns=\"http://www.w3.org/2000/svg\" xmlns:xlink=\"http://www.w3.org/1999/xlink\" width=\"216.0\" height=\"216.0\" viewBox=\"-8.0 -8.0 216.0 216.0\" preserveAspectRatio=\"xMinYMin meet\"><g transform=\"matrix(1,0,0,-1,0,200.0)\"><g><path fill-rule=\"evenodd\" fill=\"#66cc99\" stroke=\"#555555\" stroke-width=\"2.0\" opacity=\"0.6\" d=\"M 0.0,0.0 L 0.0,200.0 L 200.0,200.0 L 200.0,0.0 L 0.0,0.0 z\" /><circle cx=\"100.0\" cy=\"100.0\" r=\"3.0\" stroke=\"#555555\" stroke-width=\"1.0\" fill=\"#66cc99\" opacity=\"0.6\" /><g><polyline fill=\"none\" stroke=\"#66cc99\" stroke-width=\"2.0\" points=\"100.0,100.0 200.0,0.0\" opacity=\"0.8\" /><polyline fill=\"none\" stroke=\"#66cc99\" stroke-width=\"2.0\" points=\"100.0,100.0 0.0,0.0\" opacity=\"0.8\" /><polyline fill=\"none\" stroke=\"#66cc99\" stroke-width=\"2.0\" points=\"100.0,100.0 0.0,200.0\" opacity=\"0.8\" /><polyline fill=\"none\" stroke=\"#66cc99\" stroke-width=\"2.0\" points=\"100.0,100.0 200.0,200.0\" opacity=\"0.8\" /></g></g></g></svg>"
      ],
      "text/plain": [
       "StraightSkeleton (POLYGON ((0 0, 0 200, 200 200, 200 0, 0 0)))"
      ]
     },
     "execution_count": 7,
     "metadata": {},
     "output_type": "execute_result"
    }
   ],
   "source": [
    "polygon = Polygon([(0, 0), (0, 200), (200, 200), (200, 0)])\n",
    "\n",
    "straight_skeleton = StraightSkeleton(polygon)\n",
    "ridges = straight_skeleton.ridges()  # POINT (100 100)\n",
    "\n",
    "straight_skeleton"
   ]
  },
  {
   "cell_type": "markdown",
   "metadata": {},
   "source": [
    "### Rectangle"
   ]
  },
  {
   "cell_type": "code",
   "execution_count": 8,
   "metadata": {},
   "outputs": [
    {
     "data": {
      "image/svg+xml": [
       "<svg xmlns=\"http://www.w3.org/2000/svg\" xmlns:xlink=\"http://www.w3.org/1999/xlink\" width=\"300\" height=\"232.0\" viewBox=\"-16.0 -16.0 432.0 232.0\" preserveAspectRatio=\"xMinYMin meet\"><g transform=\"matrix(1,0,0,-1,0,200.0)\"><g><path fill-rule=\"evenodd\" fill=\"#66cc99\" stroke=\"#555555\" stroke-width=\"2.88\" opacity=\"0.6\" d=\"M 0.0,0.0 L 0.0,200.0 L 400.0,200.0 L 400.0,0.0 L 0.0,0.0 z\" /><polyline fill=\"none\" stroke=\"#66cc99\" stroke-width=\"2.88\" points=\"100.0,100.0 300.0,100.0\" opacity=\"0.8\" /><g><polyline fill=\"none\" stroke=\"#66cc99\" stroke-width=\"2.88\" points=\"100.0,100.0 0.0,0.0\" opacity=\"0.8\" /><polyline fill=\"none\" stroke=\"#66cc99\" stroke-width=\"2.88\" points=\"100.0,100.0 0.0,200.0\" opacity=\"0.8\" /><polyline fill=\"none\" stroke=\"#66cc99\" stroke-width=\"2.88\" points=\"300.0,100.0 400.0,200.0\" opacity=\"0.8\" /><polyline fill=\"none\" stroke=\"#66cc99\" stroke-width=\"2.88\" points=\"300.0,100.0 400.0,0.0\" opacity=\"0.8\" /></g></g></g></svg>"
      ],
      "text/plain": [
       "StraightSkeleton (POLYGON ((0 0, 0 200, 400 200, 400 0, 0 0)))"
      ]
     },
     "execution_count": 8,
     "metadata": {},
     "output_type": "execute_result"
    }
   ],
   "source": [
    "polygon = Polygon([(0, 0), (0, 200), (400, 200), (400, 0)])\n",
    "\n",
    "straight_skeleton = StraightSkeleton(polygon)\n",
    "ridges = straight_skeleton.ridges()  # LINESTRING (100 100, 300 100)\n",
    "\n",
    "straight_skeleton"
   ]
  },
  {
   "cell_type": "markdown",
   "metadata": {},
   "source": [
    "## T-Shapes\n",
    "\n",
    "### T-Shape"
   ]
  },
  {
   "cell_type": "code",
   "execution_count": 9,
   "metadata": {},
   "outputs": [
    {
     "data": {
      "image/svg+xml": [
       "<svg xmlns=\"http://www.w3.org/2000/svg\" xmlns:xlink=\"http://www.w3.org/1999/xlink\" width=\"108.0\" height=\"108.0\" viewBox=\"-4.0 -4.0 108.0 108.0\" preserveAspectRatio=\"xMinYMin meet\"><g transform=\"matrix(1,0,0,-1,0,100.0)\"><g><path fill-rule=\"evenodd\" fill=\"#66cc99\" stroke=\"#555555\" stroke-width=\"2.0\" opacity=\"0.6\" d=\"M 0.0,0.0 L 0.0,100.0 L 60.0,100.0 L 60.0,70.0 L 100.0,70.0 L 100.0,30.0 L 60.0,30.0 L 60.0,0.0 L 0.0,0.0 z\" /><g><polyline fill=\"none\" stroke=\"#66cc99\" stroke-width=\"2.0\" points=\"80.0,50.0 40.0,50.0\" opacity=\"0.8\" /><polyline fill=\"none\" stroke=\"#66cc99\" stroke-width=\"2.0\" points=\"30.0,60.0 30.0,70.0\" opacity=\"0.8\" /><polyline fill=\"none\" stroke=\"#66cc99\" stroke-width=\"2.0\" points=\"30.0,60.0 40.0,50.0\" opacity=\"0.8\" /><polyline fill=\"none\" stroke=\"#66cc99\" stroke-width=\"2.0\" points=\"30.0,30.0 30.0,60.0\" opacity=\"0.8\" /></g><g><polyline fill=\"none\" stroke=\"#66cc99\" stroke-width=\"2.0\" points=\"40.0,50.0 60.0,70.0\" opacity=\"0.8\" /><polyline fill=\"none\" stroke=\"#66cc99\" stroke-width=\"2.0\" points=\"80.0,50.0 100.0,70.0\" opacity=\"0.8\" /><polyline fill=\"none\" stroke=\"#66cc99\" stroke-width=\"2.0\" points=\"80.0,50.0 100.0,30.0\" opacity=\"0.8\" /><polyline fill=\"none\" stroke=\"#66cc99\" stroke-width=\"2.0\" points=\"30.0,60.0 60.0,30.0\" opacity=\"0.8\" /><polyline fill=\"none\" stroke=\"#66cc99\" stroke-width=\"2.0\" points=\"30.0,70.0 0.0,100.0\" opacity=\"0.8\" /><polyline fill=\"none\" stroke=\"#66cc99\" stroke-width=\"2.0\" points=\"30.0,70.0 60.0,100.0\" opacity=\"0.8\" /><polyline fill=\"none\" stroke=\"#66cc99\" stroke-width=\"2.0\" points=\"30.0,30.0 60.0,0.0\" opacity=\"0.8\" /><polyline fill=\"none\" stroke=\"#66cc99\" stroke-width=\"2.0\" points=\"30.0,30.0 0.0,0.0\" opacity=\"0.8\" /></g></g></g></svg>"
      ],
      "text/plain": [
       "StraightSkeleton (POLYGON ((0 0, 0 100, 60 100, 60 70, 100 70, 100 30, 60 30, 60 0, 0 0)))"
      ]
     },
     "execution_count": 9,
     "metadata": {},
     "output_type": "execute_result"
    }
   ],
   "source": [
    "polygon = Polygon(\n",
    "    [\n",
    "        (0, 0),\n",
    "        (0, 100),\n",
    "        (60, 100),\n",
    "        (60, 70),\n",
    "        (100, 70),\n",
    "        (100, 30),\n",
    "        (60, 30),\n",
    "        (60, 0),\n",
    "    ]\n",
    ")\n",
    "\n",
    "straight_skeleton = StraightSkeleton(polygon)\n",
    "straight_skeleton"
   ]
  },
  {
   "cell_type": "markdown",
   "metadata": {},
   "source": [
    "### T-Shape hole"
   ]
  },
  {
   "cell_type": "code",
   "execution_count": 10,
   "metadata": {},
   "outputs": [
    {
     "data": {
      "image/svg+xml": [
       "<svg xmlns=\"http://www.w3.org/2000/svg\" xmlns:xlink=\"http://www.w3.org/1999/xlink\" width=\"300\" height=\"232.0\" viewBox=\"-16.0 -16.0 432.0 232.0\" preserveAspectRatio=\"xMinYMin meet\"><g transform=\"matrix(1,0,0,-1,0,200.0)\"><g><path fill-rule=\"evenodd\" fill=\"#66cc99\" stroke=\"#555555\" stroke-width=\"2.88\" opacity=\"0.6\" d=\"M 0.0,0.0 L 0.0,200.0 L 400.0,200.0 L 400.0,0.0 L 0.0,0.0 z M 50.0,50.0 L 300.0,50.0 L 300.0,75.0 L 250.0,75.0 L 250.0,125.0 L 300.0,125.0 L 300.0,150.0 L 50.0,150.0 L 50.0,50.0 z\" /><g><polyline fill=\"none\" stroke=\"#66cc99\" stroke-width=\"2.88\" points=\"25.0,25.0 25.0,175.0\" opacity=\"0.8\" /><polyline fill=\"none\" stroke=\"#66cc99\" stroke-width=\"2.88\" points=\"275.0,100.0 325.0,100.0\" opacity=\"0.8\" /><polyline fill=\"none\" stroke=\"#66cc99\" stroke-width=\"2.88\" points=\"325.0,175.0 25.0,175.0\" opacity=\"0.8\" /><polyline fill=\"none\" stroke=\"#66cc99\" stroke-width=\"2.88\" points=\"350.0,150.0 325.0,175.0\" opacity=\"0.8\" /><polyline fill=\"none\" stroke=\"#66cc99\" stroke-width=\"2.88\" points=\"350.0,75.0 350.0,150.0\" opacity=\"0.8\" /><polyline fill=\"none\" stroke=\"#66cc99\" stroke-width=\"2.88\" points=\"350.0,75.0 325.0,100.0\" opacity=\"0.8\" /><polyline fill=\"none\" stroke=\"#66cc99\" stroke-width=\"2.88\" points=\"350.0,50.0 350.0,75.0\" opacity=\"0.8\" /><polyline fill=\"none\" stroke=\"#66cc99\" stroke-width=\"2.88\" points=\"325.0,25.0 350.0,50.0\" opacity=\"0.8\" /><polyline fill=\"none\" stroke=\"#66cc99\" stroke-width=\"2.88\" points=\"325.0,25.0 25.0,25.0\" opacity=\"0.8\" /></g><g><polyline fill=\"none\" stroke=\"#66cc99\" stroke-width=\"2.88\" points=\"25.0,25.0 50.0,50.0\" opacity=\"0.8\" /><polyline fill=\"none\" stroke=\"#66cc99\" stroke-width=\"2.88\" points=\"25.0,25.0 0.0,0.0\" opacity=\"0.8\" /><polyline fill=\"none\" stroke=\"#66cc99\" stroke-width=\"2.88\" points=\"325.0,100.0 300.0,75.0\" opacity=\"0.8\" /><polyline fill=\"none\" stroke=\"#66cc99\" stroke-width=\"2.88\" points=\"275.0,100.0 250.0,75.0\" opacity=\"0.8\" /><polyline fill=\"none\" stroke=\"#66cc99\" stroke-width=\"2.88\" points=\"275.0,100.0 250.0,125.0\" opacity=\"0.8\" /><polyline fill=\"none\" stroke=\"#66cc99\" stroke-width=\"2.88\" points=\"25.0,175.0 50.0,150.0\" opacity=\"0.8\" /><polyline fill=\"none\" stroke=\"#66cc99\" stroke-width=\"2.88\" points=\"25.0,175.0 0.0,200.0\" opacity=\"0.8\" /><polyline fill=\"none\" stroke=\"#66cc99\" stroke-width=\"2.88\" points=\"325.0,175.0 300.0,150.0\" opacity=\"0.8\" /><polyline fill=\"none\" stroke=\"#66cc99\" stroke-width=\"2.88\" points=\"350.0,150.0 400.0,200.0\" opacity=\"0.8\" /><polyline fill=\"none\" stroke=\"#66cc99\" stroke-width=\"2.88\" points=\"350.0,75.0 300.0,125.0\" opacity=\"0.8\" /><polyline fill=\"none\" stroke=\"#66cc99\" stroke-width=\"2.88\" points=\"350.0,50.0 400.0,0.0\" opacity=\"0.8\" /><polyline fill=\"none\" stroke=\"#66cc99\" stroke-width=\"2.88\" points=\"325.0,25.0 300.0,50.0\" opacity=\"0.8\" /></g></g></g></svg>"
      ],
      "text/plain": [
       "StraightSkeleton (POLYGON ((0 0, 0 200, 400 200, 400 0, 0 0), (50 50, 300 50, 300 75, 250 75, 250 125, 300 125, 300 150, 50 150, 50 50)))"
      ]
     },
     "execution_count": 10,
     "metadata": {},
     "output_type": "execute_result"
    }
   ],
   "source": [
    "polygon = Polygon(\n",
    "    [(0, 0), (0, 200), (400, 200), (400, 0)],\n",
    "    [\n",
    "        [\n",
    "            (50, 50),\n",
    "            (300, 50),\n",
    "            (300, 75),\n",
    "            (250, 75),\n",
    "            (250, 125),\n",
    "            (300, 125),\n",
    "            (300, 150),\n",
    "            (50, 150),\n",
    "        ]\n",
    "    ],\n",
    ")\n",
    "\n",
    "\n",
    "straight_skeleton = StraightSkeleton(polygon)\n",
    "straight_skeleton"
   ]
  }
 ],
 "metadata": {
  "kernelspec": {
   "display_name": ".venv",
   "language": "python",
   "name": "python3"
  },
  "language_info": {
   "codemirror_mode": {
    "name": "ipython",
    "version": 3
   },
   "file_extension": ".py",
   "mimetype": "text/x-python",
   "name": "python",
   "nbconvert_exporter": "python",
   "pygments_lexer": "ipython3",
   "version": "3.11.2"
  }
 },
 "nbformat": 4,
 "nbformat_minor": 2
}
